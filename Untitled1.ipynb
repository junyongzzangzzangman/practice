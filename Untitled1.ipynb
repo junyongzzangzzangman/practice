{
  "nbformat": 4,
  "nbformat_minor": 0,
  "metadata": {
    "colab": {
      "name": "Untitled1.ipynb",
      "provenance": [],
      "collapsed_sections": [],
      "authorship_tag": "ABX9TyOW2PdiQjPsa8U1WpJeNSFR",
      "include_colab_link": true
    },
    "kernelspec": {
      "name": "python3",
      "display_name": "Python 3"
    },
    "language_info": {
      "name": "python"
    }
  },
  "cells": [
    {
      "cell_type": "markdown",
      "metadata": {
        "id": "view-in-github",
        "colab_type": "text"
      },
      "source": [
        "<a href=\"https://colab.research.google.com/github/yongyogn/practice/blob/prac/Untitled1.ipynb\" target=\"_parent\"><img src=\"https://colab.research.google.com/assets/colab-badge.svg\" alt=\"Open In Colab\"/></a>"
      ]
    },
    {
      "cell_type": "code",
      "execution_count": 29,
      "metadata": {
        "id": "qaUFzLITBjCG"
      },
      "outputs": [],
      "source": [
        "import pandas as pd\n",
        "data={\"학번\":range(2000,2010),'성적':[85,95,75,70,100,100,95,85,80,85]}\n",
        "df=pd.DataFrame(data)\n",
        "df\n",
        "df=pd.DataFrame(data,columns=['성적','학번']) # 열 순서 지정가능\n",
        "df\n",
        "df=pd.read_csv('CARD_SUBWAY_MONTH_202102.csv',index_col=False)\n",
        "df.head()\n",
        "df.tail()\n",
        "df.shape\n",
        "df.describe()\n",
        "#df.info()\n",
        "df['노선명'].unique()\n",
        "df['노선명'].value_counts()\n",
        "df.sort_values(by='승차총승객수')\n",
        "df.sort_values(by='승차총승객수',ascending=False)\n",
        "df['노선명']\n",
        "df[0:10]\n",
        "df2=df.set_index('사용일자')\n",
        "df2.iloc[1] # 1번행(두번째행) 출력 (인덱스 번호로 선택)\n",
        "df2.loc[20210201] # 인덱스가 '20210201'인 행 출력 (인덱스 이름으로 선택), 중복이 있어서 오류가 나고 인덱스는 숫자형태로 되어있음\n",
        "df[df['노선명']=='2호선'] # 노선명이 2호선인 행만 출력\n",
        "df[df['승차총승객수']>=50000]\n",
        "df.drop(0) # 0번 행 삭제\n",
        "df.drop(['등록일자'],axis=1)\n",
        "df['승차총승객수']+2 # 열 전체에 2씩 더하기\n",
        "df['승하차총승객수차이']=df['승차총승객수']-df['하차총승객수']\n",
        "df['승하차총승객수차이'].mean()\n",
        "sample_df=df.sample(n=10) # 10개 비복원추출\n",
        "sample_df\n",
        "sample_df['노선명'].replace(['1호선','2호선','3호선','4호선'],['line1','line2','line3','line4'])\n",
        "\n",
        "def getDate(d):\n",
        "    d=str(d)\n",
        "    year=d[0:4]\n",
        "    month=d[4:6]\n",
        "    day=d[6:8]\n",
        "    return year+'-'+month+'-'+day\n",
        "\n",
        "df['사용일자1']=df['사용일자'].apply(getDate)\n",
        "df['사용일자1'].astype('datetime64')\n",
        "\n",
        "df['승차총승객수'].apply(lambda x:x+2)\n",
        "plus=lambda x: x+2\n",
        "df['승차총승객수'].apply(plus)\n",
        "\n",
        "dummies=pd.get_dummies(sample_df['노선명'],prefix='노선')\n",
        "dummies\n",
        "\n",
        "import numpy as np\n",
        "data={'학번':range(2000,2010),\n",
        "      '국어성적':[85,95,75,70,100,np.nan,95,85,80,85],\n",
        "      '영어성적':[95,70,100,85,80,85,95,95,np.nan,70],\n",
        "      '수학성적':[np.nan,np.nan,np.nan,np.nan,np.nan,np.nan,np.nan,95,np.nan,70]}\n",
        "data=pd.DataFrame(data)\n",
        "data\n",
        "\n",
        "data.isna().sum()# 결측치 개수\n",
        "data.fillna(0) # 결측치를 0으로 채우기\n",
        "data['수학성적'].fillna(50,inplace=True) # 특정 열의 결측치만 변경\n",
        "data.dropna() # 결측치있는 행 삭제\n",
        "\n",
        "df=pd.read_csv('CARD_SUBWAY_MONTH_202102.csv',index_col=False)\n",
        "df.groupby(['노선명']).mean() # 노선명 별 각 변수의 평균\n",
        "\n",
        "df1=pd.DataFrame({'이름':['A','B','D'],'성별':['남자','여자','남자']})\n",
        "df2=pd.DataFrame({'이름':['A','B','C'],'키':[180,160,150]})\n",
        "pd.merge(df1,df2) # 이름 기준으로 병합, 같은 이름이 없는 행은 삭제\n",
        "pd.merge(df1,df2,how='left') # 왼쪽에 있는 데이터(df1)의 데이터는 전부 포함, 오른쪽 데이터에 겹치는게 없다면 결측치로\n",
        "pd.merge(df1,df2,how='right') # 오른쪽 기준\n",
        "pd.merge(df1,df2,how='outer') # 모두 포함, 각 데이터와 기준열(이름)이 겹치지 않는 데이터는 결측치로\n",
        "\n",
        "df1=pd.DataFrame({'이름':['A','B','C','D','E'],'키':[180,160,150,170,170],'나이':[23,46,33,65,28],'주소':['서울','부산','대전','원주','제주']})\n",
        "df2=pd.DataFrame({'이름':['F','G','H','I','J'],'키':[190,180,150,160,170],'나이':[22,18,87,45,74],'주소':['전주','서울','수원','부산','인천']})\n",
        "pd.concat([df1,df2]) # 행 병합\n",
        "pd.concat([df1,df2],axis=1) # 열 병합, axis=0(행병합)이 default\n",
        "df1.to_csv('dataframe.csv',encoding='euc-kr') # csv파일로 저장"
      ]
    }
  ]
}